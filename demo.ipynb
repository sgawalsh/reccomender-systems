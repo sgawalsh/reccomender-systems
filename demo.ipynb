{
 "cells": [
  {
   "cell_type": "markdown",
   "id": "superb-belly",
   "metadata": {},
   "source": [
    "### Introduction\n",
    "\n",
    "The purpose of this notebook is to serve as a demonstration of the two main recommender models used in this project, and will take an in-depth look at how it is that the models are constructed and trained. At the end the models built using various methods will be compared in an attempt to show which hyperparameters, and data formatting techniques show the most strongly related results.\n",
    "\n",
    "Each of the methods was trained using the same MovieLens dataset, which is a sparsely-populated matrix which holds user ratings for selected movies. The goal of this project was to implemented two different methods of implementing a recommender system using this data, and finding the correlation between these methods."
   ]
  },
  {
   "cell_type": "markdown",
   "id": "graphic-legislature",
   "metadata": {},
   "source": [
    "### Matrix Factorization\n",
    "\n",
    "The first methods that was implemented was the matrix factorization method. This involves choosing a number of factors, then creating a user and item matrix, in order to generate predicted user ratings. For a U x M matrix where U represents the amount of users, and M represents the amount of items, one would choose the number of factors F to be tracked, then create a U x F matrix of user vectors, and a F x M matrix of movie vectors, U x 1 and 1 x M matrices are also created to hold bias terms for each user and item. By multiplying the vector matrices, then adding the bias terms where appropriate, we can get a matrix the shape of the original dataset which contains predictions for each user and movie combination.\n",
    "\n",
    "The final prediction equation for a given user u_id, and item i_id is as follows:\n",
    "\n",
    "P[u_id, i_id] = dot(U[u_id], I[i_id]) + U_b[u_id] + I_b[i_id]\n",
    "\n",
    "Where prediction P is the dot product of the selected user and item vectors, added to the selected user and item bias terms.\n",
    "\n",
    "The training process involves taking the provided predictions from the dataset generating a prediction for that interaction, then finding the difference between them, and using this value to determine the direction and the magnitude by which the user and movie vectors are adjusted.\n",
    "\n",
    "The stochastic gradient descent method implemented here involves taking the derivative of the prediction function with respect to each of the user and item vectors, as well as each of the user and item bias terms, and using these derivatives along with the loss to calculate the adjustment applied for each value. Regularization values can also be added to these equations which push the values held in each of the matrices towards 0 according to the regularization scalar.\n",
    "\n",
    "This training process will cause users with similar tastes, or movies that appeal to similar audiences, to be grouped closely to one another when the calculating the distance between their vectors. "
   ]
  },
  {
   "cell_type": "code",
   "execution_count": 1,
   "id": "imperial-combining",
   "metadata": {},
   "outputs": [],
   "source": [
    "import numpy as np\n",
    "from math import floor, sqrt\n",
    "import matplotlib.pyplot as plt\n",
    "from itertools import product\n",
    "import data\n",
    "\n",
    "class sgdMF():\n",
    "    \n",
    "    def __init__(self, ratings, n_factors = 100, user_vec_reg = 0, item_vec_reg = 0, user_bias_reg = 0, item_bias_reg = 0, lr = .01, training_split = .9, populate_bias = True, set_seed = True, scaling = 'z', verbose = False):\n",
    "        self.train_vals = ratings[~np.isnan(ratings)]\n",
    "        if scaling == 'z': # z normalization\n",
    "            self.ratings = (ratings - self.train_vals.mean()) / self.train_vals.std() # scale and center data\n",
    "        elif scaling == 'mm': # minmax normalization\n",
    "            self.ratings = (ratings - self.train_vals.min()) / (self.train_vals.max() - self.train_vals.min())\n",
    "        self.n_factors = n_factors\n",
    "        self.n_users, self.n_items = ratings.shape\n",
    "        self.set_seed = set_seed\n",
    "        if self.set_seed:\n",
    "            np.random.seed(0)\n",
    "        self.user_matrix = np.random.normal(scale=1./self.n_factors, size=(self.n_users, self.n_factors))\n",
    "        if self.set_seed:\n",
    "            np.random.seed(0)\n",
    "        self.item_matrix = np.random.normal(scale=1./self.n_factors, size=(self.n_items, self.n_factors))\n",
    "        self.user_bias_reg, self.item_bias_reg, self.user_vec_reg, self.item_vec_reg = user_bias_reg, item_bias_reg, user_vec_reg, item_vec_reg\n",
    "        self.lr = lr\n",
    "        self.test_mae, self.test_rmse, self.train_mae, self.train_rmse = [], [], [], []\n",
    "        self.pop_bias = populate_bias\n",
    "        self.verbose = verbose\n",
    "        \n",
    "        self.gen_datasets(training_split)\n",
    "        self.bias_init(populate_bias)\n",
    "        self.min_error = np.inf\n",
    "\n",
    "    def gen_datasets(self, training_split):\n",
    "        dataset = np.column_stack(np.nan_to_num(self.ratings).nonzero())\n",
    "        \n",
    "        if training_split >= 1:\n",
    "            self.train_data = dataset\n",
    "        else:\n",
    "            if self.set_seed:\n",
    "                np.random.seed(0)\n",
    "            np.random.shuffle(dataset)\n",
    "            self.train_data, self.test_data = np.split(dataset, [floor(len(dataset) * training_split)])\n",
    "\n",
    "    def bias_init(self, populate = True):\n",
    "        #self.global_bias = np.sum(self.train_data) / np.count_nonzero(~np.isnan(self.ratings)) #not needed for centered input data\n",
    "        self.user_bias = np.zeros(self.n_users)\n",
    "        self.item_bias = np.zeros(self.n_items)\n",
    "        \n",
    "        if populate:\n",
    "            for u, row in enumerate(self.ratings):\n",
    "                self.user_bias[u] = row[~np.isnan(row)].mean()\n",
    "            for i, col in enumerate(self.ratings.T):\n",
    "                self.item_bias[i] = col[~np.isnan(col)].mean()\n",
    "                \n",
    "    def train(self, test_period = 10000):\n",
    "        if self.set_seed:\n",
    "            np.random.seed(0)\n",
    "        np.random.shuffle(self.train_data)\n",
    "        mae_sum, mse_sum, test_counter = 0, 0, 0\n",
    "        #print(\"{0}/{1} - Average Error: {2}\".format(0, len(self.train_data), self.test()))\n",
    "        for i, coord in enumerate(self.train_data):\n",
    "            target = self.ratings[coord[0]][coord[1]]\n",
    "            prediction = self.predict(coord[0], coord[1])\n",
    "            err = target - prediction\n",
    "            test_counter += 1\n",
    "            mae_sum += abs(err)\n",
    "            mse_sum += err * err\n",
    "            \n",
    "            self.update_sgd(err, coord[0], coord[1])\n",
    "        \n",
    "            if test_counter >= test_period:\n",
    "                train_mae = mae_sum / test_period\n",
    "                train_rmse = sqrt(mse_sum / test_period)\n",
    "                self.train_mae.append(train_mae)\n",
    "                self.train_rmse.append(train_rmse)\n",
    "                mae_sum, mse_sum, test_counter = 0, 0, 0\n",
    "                test_mae, test_rmse = self.test()\n",
    "                if self.verbose:\n",
    "                    print(\"{0}/{1} - Train MAE: {2}, Train MSE: {3}, Test MAE: {4}, Test MSE: {5}\".format(i + 1, len(self.train_data), round(train_mae, 3), round(train_rmse, 3), round(test_mae, 3), round(test_rmse, 3)))\n",
    "                if test_rmse < self.min_error:\n",
    "                    self.min_error = test_rmse\n",
    "                    self.best_user_matrix = np.copy(self.user_matrix)\n",
    "                    self.best_item_matrix = np.copy(self.item_matrix)\n",
    "                    self.best_user_bias = np.copy(self.user_bias)\n",
    "                    self.best_item_bias = np.copy(self.item_bias)\n",
    "                    \n",
    "    def update_sgd(self, err, u_id, i_id):\n",
    "        self.user_bias[u_id] += self.lr * (err - self.user_bias_reg * self.user_bias[u_id])\n",
    "        self.item_bias[i_id] += self.lr * (err - self.item_bias_reg * self.item_bias[i_id])\n",
    "        \n",
    "        self.user_matrix[u_id] += self.lr * (err * self.item_matrix[i_id] - self.user_vec_reg * self.user_matrix[u_id])\n",
    "        self.item_matrix[i_id] += self.lr * (err * self.user_matrix[u_id] - self.item_vec_reg * self.item_matrix[i_id])\n",
    "        \n",
    "    def predict(self, u_id, i_id):\n",
    "        prediction = self.user_bias[u_id] + self.item_bias[i_id]\n",
    "        prediction += self.user_matrix[u_id].dot(self.item_matrix[i_id])\n",
    "        return prediction\n",
    "        \n",
    "    def test(self):\n",
    "        mae_sum, mse_sum = 0, 0\n",
    "        for coord in self.test_data:\n",
    "            target = self.ratings[coord[0]][coord[1]]\n",
    "            prediction = self.predict(coord[0], coord[1])\n",
    "            err = abs(target - prediction)\n",
    "            mae_sum += err\n",
    "            mse_sum += err * err\n",
    "        \n",
    "        test_mae = mae_sum / len(self.test_data)\n",
    "        test_rmse = sqrt(mse_sum / len(self.test_data))\n",
    "        self.test_mae.append(test_mae)\n",
    "        self.test_rmse.append(test_rmse)\n",
    "        return test_mae, test_rmse\n",
    "        \n",
    "    def plot_error(self):\n",
    "        plt.figure()\n",
    "        plt.suptitle(\"Factors : {} - LR: {} - VR: {} - BR: {} - PB: {}\".format(self.n_factors, self.lr, self.user_vec_reg, self.user_bias_reg, self.pop_bias))\n",
    "        plt.subplot(211)\n",
    "        plt.ylabel('RMSE')\n",
    "        plt.plot(self.test_rmse, 'go', label = \"Test\")\n",
    "        plt.plot(self.train_rmse, 'ro', label = \"Train\")\n",
    "        plt.legend(loc='lower left')\n",
    "        plt.subplot(212)\n",
    "        plt.ylabel('MAE')\n",
    "        plt.plot(self.test_mae, 'go', label = \"Test\")\n",
    "        plt.plot(self.train_mae, 'ro', label = \"Train\")\n",
    "        plt.legend(loc='lower left')\n",
    "        plt.show()"
   ]
  },
  {
   "cell_type": "markdown",
   "id": "spectacular-fisher",
   "metadata": {},
   "source": [
    "There are more class methods implemented in the final model which handle generating predictions and other , but this is all that's necessary to train a model. The init, bias_init, and gen_datasets functions are all called on initialization and are used to populate necessary class attributes, and generate training and test datasets. The main training loop is contained in the train method, and uses the update_sgd methods to adjust the appropriate matrix values."
   ]
  },
  {
   "cell_type": "code",
   "execution_count": 2,
   "id": "vocal-domain",
   "metadata": {},
   "outputs": [],
   "source": [
    "def test_params():\n",
    "    ratings = data.get_data(\"ml-latest-small/ratings.csv\")\n",
    "    hyperParameterList = { # set hyperparameter combinations\n",
    "                \"Factors\": [100],\n",
    "                \"Learning Rate\": [.01, .001],\n",
    "                \"Populate Bias\": [True],\n",
    "                \"Bias Regs\": [.1, .2],\n",
    "                \"Vector Regs\": [.1, .2],\n",
    "                \"Epochs\": [3],\n",
    "                }\n",
    "    \n",
    "    keys, values = zip(*hyperParameterList.items())\n",
    "    min_error = np.inf\n",
    "    \n",
    "    for v in product(*values):\n",
    "        e = dict(zip(keys, v)) # generate hyperparameter combination\n",
    "        print(\"Using hyperparams: {0}\".format(e))\n",
    "        my_sgdMF = sgdMF(ratings.to_numpy(), e[\"Factors\"], lr = e[\"Learning Rate\"], populate_bias = e[\"Populate Bias\"], user_vec_reg = e[\"Vector Regs\"], item_vec_reg =  e[\"Vector Regs\"], user_bias_reg = e[\"Bias Regs\"], item_bias_reg = e[\"Bias Regs\"])\n",
    "        \n",
    "        for i in range(e[\"Epochs\"]):\n",
    "            my_sgdMF.train()\n",
    "        my_sgdMF.plot_error()\n",
    "        \n",
    "        if my_sgdMF.min_error < min_error:\n",
    "            min_error = my_sgdMF.min_error\n",
    "            best_params = e\n",
    "            best_user_matrix, best_item_matrix, best_user_bias, best_item_bias = my_sgdMF.best_user_matrix, my_sgdMF.best_item_matrix, my_sgdMF.best_user_bias, my_sgdMF.best_item_bias\n",
    "            print(\"New best params: {0}\".format(best_params))\n",
    "    \n",
    "    print(\"Best parameters: {0}, RMSE: {1}\".format(best_params, round(min_error, 3)))"
   ]
  },
  {
   "cell_type": "markdown",
   "id": "protective-compiler",
   "metadata": {},
   "source": [
    "The test_params function above allows us to compare any iteration of training hyperparameters. Let's run with the current settings to see which combination works best. Because we have two values provided for the learning rate, and two values provided for each of the bias and vector regularization terms, the function will test 2 * 2 * 2 = 8 different sets of hyperparameters."
   ]
  },
  {
   "cell_type": "code",
   "execution_count": 3,
   "id": "renewable-recommendation",
   "metadata": {},
   "outputs": [
    {
     "name": "stdout",
     "output_type": "stream",
     "text": [
      "Using hyperparams: {'Factors': 100, 'Learning Rate': 0.01, 'Populate Bias': True, 'Bias Regs': 0.1, 'Vector Regs': 0.1, 'Epochs': 3}\n"
     ]
    },
    {
     "data": {
      "image/png": "[encoded data removed]",
      "text/plain": [
       "<Figure size 432x288 with 2 Axes>"
      ]
     },
     "metadata": {
      "needs_background": "light"
     },
     "output_type": "display_data"
    },
    {
     "name": "stdout",
     "output_type": "stream",
     "text": [
      "New best params: {'Factors': 100, 'Learning Rate': 0.01, 'Populate Bias': True, 'Bias Regs': 0.1, 'Vector Regs': 0.1, 'Epochs': 3}\n",
      "Using hyperparams: {'Factors': 100, 'Learning Rate': 0.01, 'Populate Bias': True, 'Bias Regs': 0.1, 'Vector Regs': 0.2, 'Epochs': 3}\n"
     ]
    },
    {
     "data": {
      "image/png": "[encoded data removed]",
      "text/plain": [
       "<Figure size 432x288 with 2 Axes>"
      ]
     },
     "metadata": {
      "needs_background": "light"
     },
     "output_type": "display_data"
    },
    {
     "name": "stdout",
     "output_type": "stream",
     "text": [
      "New best params: {'Factors': 100, 'Learning Rate': 0.01, 'Populate Bias': True, 'Bias Regs': 0.1, 'Vector Regs': 0.2, 'Epochs': 3}\n",
      "Using hyperparams: {'Factors': 100, 'Learning Rate': 0.01, 'Populate Bias': True, 'Bias Regs': 0.2, 'Vector Regs': 0.1, 'Epochs': 3}\n"
     ]
    },
    {
     "data": {
      "image/png": "[encoded data removed]",
      "text/plain": [
       "<Figure size 432x288 with 2 Axes>"
      ]
     },
     "metadata": {
      "needs_background": "light"
     },
     "output_type": "display_data"
    },
    {
     "name": "stdout",
     "output_type": "stream",
     "text": [
      "Using hyperparams: {'Factors': 100, 'Learning Rate': 0.01, 'Populate Bias': True, 'Bias Regs': 0.2, 'Vector Regs': 0.2, 'Epochs': 3}\n"
     ]
    },
    {
     "data": {
      "image/png": "[encoded data removed]",
      "text/plain": [
       "<Figure size 432x288 with 2 Axes>"
      ]
     },
     "metadata": {
      "needs_background": "light"
     },
     "output_type": "display_data"
    },
    {
     "name": "stdout",
     "output_type": "stream",
     "text": [
      "Using hyperparams: {'Factors': 100, 'Learning Rate': 0.001, 'Populate Bias': True, 'Bias Regs': 0.1, 'Vector Regs': 0.1, 'Epochs': 3}\n"
     ]
    },
    {
     "data": {
      "image/png": "[encoded data removed]",
      "text/plain": [
       "<Figure size 432x288 with 2 Axes>"
      ]
     },
     "metadata": {
      "needs_background": "light"
     },
     "output_type": "display_data"
    },
    {
     "name": "stdout",
     "output_type": "stream",
     "text": [
      "New best params: {'Factors': 100, 'Learning Rate': 0.001, 'Populate Bias': True, 'Bias Regs': 0.1, 'Vector Regs': 0.1, 'Epochs': 3}\n",
      "Using hyperparams: {'Factors': 100, 'Learning Rate': 0.001, 'Populate Bias': True, 'Bias Regs': 0.1, 'Vector Regs': 0.2, 'Epochs': 3}\n"
     ]
    },
    {
     "data": {
      "image/png": "[encoded data removed]",
      "text/plain": [
       "<Figure size 432x288 with 2 Axes>"
      ]
     },
     "metadata": {
      "needs_background": "light"
     },
     "output_type": "display_data"
    },
    {
     "name": "stdout",
     "output_type": "stream",
     "text": [
      "New best params: {'Factors': 100, 'Learning Rate': 0.001, 'Populate Bias': True, 'Bias Regs': 0.1, 'Vector Regs': 0.2, 'Epochs': 3}\n",
      "Using hyperparams: {'Factors': 100, 'Learning Rate': 0.001, 'Populate Bias': True, 'Bias Regs': 0.2, 'Vector Regs': 0.1, 'Epochs': 3}\n"
     ]
    },
    {
     "data": {
      "image/png": "[encoded data removed]",
      "text/plain": [
       "<Figure size 432x288 with 2 Axes>"
      ]
     },
     "metadata": {
      "needs_background": "light"
     },
     "output_type": "display_data"
    },
    {
     "name": "stdout",
     "output_type": "stream",
     "text": [
      "New best params: {'Factors': 100, 'Learning Rate': 0.001, 'Populate Bias': True, 'Bias Regs': 0.2, 'Vector Regs': 0.1, 'Epochs': 3}\n",
      "Using hyperparams: {'Factors': 100, 'Learning Rate': 0.001, 'Populate Bias': True, 'Bias Regs': 0.2, 'Vector Regs': 0.2, 'Epochs': 3}\n"
     ]
    },
    {
     "data": {
      "image/png": "[encoded data removed]",
      "text/plain": [
       "<Figure size 432x288 with 2 Axes>"
      ]
     },
     "metadata": {
      "needs_background": "light"
     },
     "output_type": "display_data"
    },
    {
     "name": "stdout",
     "output_type": "stream",
     "text": [
      "New best params: {'Factors': 100, 'Learning Rate': 0.001, 'Populate Bias': True, 'Bias Regs': 0.2, 'Vector Regs': 0.2, 'Epochs': 3}\n",
      "Best parameters: {'Factors': 100, 'Learning Rate': 0.001, 'Populate Bias': True, 'Bias Regs': 0.2, 'Vector Regs': 0.2, 'Epochs': 3}, RMSE: 0.763\n"
     ]
    }
   ],
   "source": [
    "test_params()"
   ]
  },
  {
   "cell_type": "markdown",
   "id": "fancy-triple",
   "metadata": {},
   "source": [
    "The test RMSE value was used to determine which set of hyperparameters performed the best. From our results we see that it appears that within the ranges of hyperparameters we tested here a higher regularization term and low learning rate lead to the best results."
   ]
  },
  {
   "cell_type": "markdown",
   "id": "attractive-electron",
   "metadata": {},
   "source": [
    "### Neural Net\n",
    "\n",
    "We can also generate predicitions by training a neural net on the available data. This method uses the embeddings module of PyTorch to map user and item entries to embedding vectors. The concatentation of these two vectors is used as the input to our forward function, which is fed through a selected amount of hidden, and dropout layers, and used to generate a prediction for the specified user and item combination."
   ]
  },
  {
   "cell_type": "code",
   "execution_count": 4,
   "id": "formal-panama",
   "metadata": {},
   "outputs": [],
   "source": [
    "import math\n",
    "import numpy as np\n",
    "import torch\n",
    "import data\n",
    "import itertools\n",
    "from sklearn.model_selection import train_test_split\n",
    "import copy\n",
    "from torch.optim.lr_scheduler import _LRScheduler\n",
    "import pickle\n",
    "\n",
    "class my_net(torch.nn.Module):\n",
    "    def __init__(self, n_users, n_items, u_embeds, i_embeds, hidden_sizes = [500, 500, 500], drop_rates = [.5, 0.5, .25], embed_drop = .05):\n",
    "        super(my_net, self).__init__()\n",
    "        self.user_embeds = torch.nn.Embedding(n_users, u_embeds)\n",
    "        self.item_embeds = torch.nn.Embedding(n_items, i_embeds)\n",
    "        \n",
    "        def make_hidden(n_in): # generator to create hidden layers\n",
    "                \n",
    "                nonlocal hidden_sizes, drop_rates\n",
    "                assert len(drop_rates) <= len(hidden_sizes)\n",
    "                \n",
    "                for n_out, rate in itertools.zip_longest(hidden_sizes, drop_rates):\n",
    "                    yield torch.nn.Linear(n_in, n_out)\n",
    "                    yield torch.nn.ReLU()\n",
    "                    if rate is not None and rate > 0.:\n",
    "                        yield torch.nn.Dropout(rate)\n",
    "                    n_in = n_out \n",
    "\n",
    "        self.embed_drop = torch.nn.Dropout(embed_drop)\n",
    "        self.hidden = torch.nn.Sequential(*list(make_hidden(u_embeds + i_embeds)))\n",
    "        self.out_layer = torch.nn.Linear(hidden_sizes[-1], 1)\n",
    "        self._init()\n",
    "\n",
    "\n",
    "    def forward(self, user, item):\n",
    "        x = torch.cat([self.user_embeds(user), self.item_embeds(item)], dim=1)\n",
    "        x = self.embed_drop(x)\n",
    "        x = self.hidden(x)\n",
    "        x = self.out_layer(x)\n",
    "        x = torch.sigmoid(x)\n",
    "\n",
    "        return x\n",
    "    \n",
    "    def _init(self):\n",
    "        \"\"\"\n",
    "        Setup embeddings and hidden layers with reasonable initial values.\n",
    "        \"\"\"\n",
    "        \n",
    "        def init(m):\n",
    "            if type(m) == torch.nn.Linear:\n",
    "                torch.nn.init.xavier_uniform_(m.weight)\n",
    "                m.bias.data.fill_(0.01)\n",
    "                \n",
    "        weight = .01\n",
    "        self.user_embeds.weight.data.uniform_(-1 *weight, weight)\n",
    "        self.item_embeds.weight.data.uniform_(-1 * weight, weight)\n",
    "        self.hidden.apply(init)\n",
    "        init(self.out_layer)\n",
    "    \n",
    "class batch_iterator:\n",
    "    def __init__(self, x, y, shuffle = True, bs = 32):\n",
    "        if shuffle:\n",
    "            p = np.random.permutation(x.shape[0])\n",
    "            self.x, self.y = x[p], y[p]\n",
    "        else:\n",
    "            self.x, self.y = x, y\n",
    "            \n",
    "        self.max_batch = x.shape[0] // bs\n",
    "        self.bc = 0\n",
    "        self.bs = bs\n",
    "    \n",
    "    def __iter__(self):\n",
    "        return self\n",
    "    \n",
    "    def __next__(self):\n",
    "        if self.bc < self.max_batch:\n",
    "            bc = self.bc\n",
    "            self.bc += 1\n",
    "            return self.x[bc * self.bs: (bc + 1) * self.bs], self.y[bc * self.bs: (bc + 1) * self.bs]\n",
    "        else:\n",
    "            raise StopIteration()\n",
    "            \n",
    "class CyclicLR(_LRScheduler):\n",
    "    \n",
    "    def __init__(self, optimizer, schedule, last_epoch=-1):\n",
    "        assert callable(schedule)\n",
    "        self.schedule = schedule\n",
    "        super().__init__(optimizer, last_epoch)\n",
    "\n",
    "    def get_lr(self):\n",
    "        return [self.schedule(self.last_epoch, lr) for lr in self.base_lrs]\n",
    "\n",
    "\n",
    "\n",
    "def cosine(t_max, eta_min=0):\n",
    "    \n",
    "    def scheduler(epoch, base_lr):\n",
    "        t = epoch % t_max\n",
    "        return eta_min + (base_lr - eta_min)*(1 + math.cos(math.pi*t/t_max))/2\n",
    "    \n",
    "    return scheduler\n",
    "\n",
    "def train_model(norm = 'mm'):\n",
    "\n",
    "    ratings = data.get_data(\"ml-latest-small/ratings.csv\").to_numpy()\n",
    "    \n",
    "    y = ratings[~np.isnan(ratings)]\n",
    "    \n",
    "    # ratings = (ratings - y.mean()) / y.std()\n",
    "    # y = (y - y.mean()) / y.std()\n",
    "    \n",
    "    if norm == 'mm': # minmax scaling\n",
    "        y = (y - y.min()) / (y.max() - y.min())\n",
    "    elif norm == 'z': # z scaling\n",
    "        y = (y - y.mean()) / y.std()\n",
    "    \n",
    "    x = np.column_stack(np.nan_to_num(ratings).nonzero())\n",
    "    \n",
    "    x_train, x_valid, y_train, y_valid = train_test_split(x, y, test_size=0.2, random_state=1)\n",
    "    \n",
    "    datasets = {\n",
    "        \"train\": (x_train, y_train),\n",
    "        \"val\": (x_valid, y_valid)\n",
    "        }\n",
    "    \n",
    "    \n",
    "    n_users, n_items = ratings.shape\n",
    "    \n",
    "    u_embeds, i_embeds = 150, 150\n",
    "    \n",
    "    lr = 5e-4\n",
    "    wd = 1e-1\n",
    "    bs = 2000\n",
    "    n_epochs = 100\n",
    "    patience = 10\n",
    "    no_improvements = 0\n",
    "    best_loss = np.inf\n",
    "    best_weights = None\n",
    "    history = []\n",
    "    \n",
    "    # use GPU if available\n",
    "    identifier = 'cuda:0' if torch.cuda.is_available() else 'cpu'\n",
    "    device = torch.device(identifier)\n",
    "    \n",
    "    base = 500\n",
    "    net = my_net(n_users, n_items, u_embeds, i_embeds, [base, base, base], [.5, .5, .25])\n",
    "    net.to(device)\n",
    "    print(net)\n",
    "    criterion = torch.nn.MSELoss(reduction='sum')\n",
    "    #criterion = torch.nn.L1Loss(reduction='sum')\n",
    "    optimizer = torch.optim.Adam(net.parameters(), lr=lr, weight_decay=wd)\n",
    "    iterations_per_epoch = int(math.ceil(datasets['train'][0].shape[0] // bs))\n",
    "    scheduler = CyclicLR(optimizer, cosine(t_max=iterations_per_epoch * 2, eta_min=lr/10))\n",
    "    lr_history = []\n",
    "    \n",
    "    fmt = '[{epoch:03d}/{total:03d}] train: {train:.4f} - val: {val:.4f}'\n",
    "    \n",
    "    # start training\n",
    "    for epoch in range(n_epochs):\n",
    "        stats = {'epoch': epoch + 1, 'total': n_epochs}\n",
    "        \n",
    "        for phase in ('train', 'val'):\n",
    "            if phase == 'train':\n",
    "                net.train()\n",
    "            else:\n",
    "                net.eval()\n",
    "            training = phase == 'train'\n",
    "            running_loss = 0.0\n",
    "            \n",
    "            itr = batch_iterator(*datasets[phase], bs = bs)\n",
    "            \n",
    "            for x_b, y_b in itr:\n",
    "                optimizer.zero_grad()\n",
    "                x_b_t = torch.LongTensor(x_b).to(device)\n",
    "                y_b_t = torch.FloatTensor(y_b).view(-1, 1).to(device)\n",
    "                preds = net(x_b_t[:, 0], x_b_t[:, 1])\n",
    "                loss = criterion(preds, y_b_t)\n",
    "                if training:\n",
    "                    loss.backward()\n",
    "                    optimizer.step()\n",
    "                    scheduler.step()\n",
    "                    lr_history.extend(scheduler.get_lr())\n",
    "                \n",
    "                        \n",
    "                running_loss += loss.item()\n",
    "                \n",
    "            epoch_loss = running_loss / datasets[phase][0].shape[0]\n",
    "            stats[phase] = epoch_loss\n",
    "            if phase == 'val':\n",
    "                if epoch_loss < best_loss:\n",
    "                    print('loss improvement on epoch: %d' % (epoch + 1))\n",
    "                    best_loss = epoch_loss\n",
    "                    best_weights = copy.deepcopy(net.state_dict())\n",
    "                    no_improvements = 0\n",
    "                else:\n",
    "                    no_improvements += 1\n",
    "                    \n",
    "        history.append(stats)\n",
    "        print(fmt.format(**stats))\n",
    "    \n",
    "        if no_improvements >= patience:\n",
    "            break\n",
    "        \n",
    "    net.load_state_dict(best_weights)\n",
    "        \n",
    "    torch.save(best_weights, \"models/best_weights.pt\")\n",
    "    pickle.dump(net.user_embeds, open(\"models/user_embeds\", \"wb\"))\n",
    "    pickle.dump(net.item_embeds, open(\"models/item_embeds\", \"wb\"))"
   ]
  },
  {
   "cell_type": "markdown",
   "id": "alike-stephen",
   "metadata": {},
   "source": [
    "The above code contains our net model as well as functions required for the training loop, including a batch iterator class, and a learning rate scheduler. The code was based off the blog post [here](https://medium.com/coinmonks/how-to-implement-a-recommendation-system-with-deep-learning-and-pytorch-2d40476590f9), so anyone interested in how exactly each part works can find what they are looking for in the post itself.\n",
    "\n",
    "It's certainly a nice algorithm, but there's not as much here that merits a low-level explaination of the inner workings as it's mostly quite standard for those familiar with the process of training neural nets, so in the interest of brevity let's just go ahead and train the thing."
   ]
  },
  {
   "cell_type": "code",
   "execution_count": 5,
   "id": "third-welding",
   "metadata": {},
   "outputs": [
    {
     "name": "stdout",
     "output_type": "stream",
     "text": [
      "my_net(\n",
      "  (user_embeds): Embedding(610, 150)\n",
      "  (item_embeds): Embedding(9724, 150)\n",
      "  (embed_drop): Dropout(p=0.05, inplace=False)\n",
      "  (hidden): Sequential(\n",
      "    (0): Linear(in_features=300, out_features=500, bias=True)\n",
      "    (1): ReLU()\n",
      "    (2): Dropout(p=0.5, inplace=False)\n",
      "    (3): Linear(in_features=500, out_features=500, bias=True)\n",
      "    (4): ReLU()\n",
      "    (5): Dropout(p=0.5, inplace=False)\n",
      "    (6): Linear(in_features=500, out_features=500, bias=True)\n",
      "    (7): ReLU()\n",
      "    (8): Dropout(p=0.25, inplace=False)\n",
      "  )\n",
      "  (out_layer): Linear(in_features=500, out_features=1, bias=True)\n",
      ")\n",
      "loss improvement on epoch: 1\n",
      "[001/100] train: 0.0508 - val: 0.0417\n",
      "loss improvement on epoch: 2\n",
      "[002/100] train: 0.0380 - val: 0.0388\n",
      "loss improvement on epoch: 3\n",
      "[003/100] train: 0.0357 - val: 0.0375\n",
      "loss improvement on epoch: 4\n",
      "[004/100] train: 0.0328 - val: 0.0374\n",
      "loss improvement on epoch: 5\n",
      "[005/100] train: 0.0331 - val: 0.0367\n",
      "loss improvement on epoch: 6\n",
      "[006/100] train: 0.0311 - val: 0.0367\n",
      "loss improvement on epoch: 7\n",
      "[007/100] train: 0.0317 - val: 0.0365\n",
      "[008/100] train: 0.0297 - val: 0.0367\n",
      "[009/100] train: 0.0304 - val: 0.0368\n",
      "[010/100] train: 0.0288 - val: 0.0371\n",
      "[011/100] train: 0.0297 - val: 0.0369\n",
      "[012/100] train: 0.0282 - val: 0.0374\n",
      "[013/100] train: 0.0290 - val: 0.0372\n",
      "[014/100] train: 0.0274 - val: 0.0376\n",
      "[015/100] train: 0.0284 - val: 0.0375\n",
      "[016/100] train: 0.0267 - val: 0.0382\n",
      "[017/100] train: 0.0277 - val: 0.0379\n"
     ]
    }
   ],
   "source": [
    "train_model()"
   ]
  },
  {
   "cell_type": "markdown",
   "id": "great-ridge",
   "metadata": {},
   "source": [
    "### Analysis\n",
    "\n",
    "Now we have two different methods from predicting user-item interactions. A good indication that the processes worked well would be that they make similar predictions, and that they group the users and items similarly."
   ]
  },
  {
   "cell_type": "code",
   "execution_count": 6,
   "id": "structured-nature",
   "metadata": {},
   "outputs": [],
   "source": [
    "from scipy.spatial import cKDTree\n",
    "import sgd_mf\n",
    "import nn\n",
    "import random\n",
    "\n",
    "def load_mf_embeds():\n",
    "    user_vec = pickle.load(open(\"mf_emeddings/user_matrix\", \"rb\" ))\n",
    "    item_vec = pickle.load(open(\"mf_emeddings/item_matrix\", \"rb\" ))\n",
    "    \n",
    "    return user_vec, item_vec\n",
    "\n",
    "def load_nn_embeds():\n",
    "    users = pickle.load(open(\"models/user_embeds\", \"rb\" ))\n",
    "    items = pickle.load(open(\"models/item_embeds\", \"rb\" ))\n",
    "    \n",
    "    return users.cpu().weight.detach().numpy(), np.array(items.cpu().weight.detach().numpy())\n",
    "\n",
    "def get_n_closest(in_matrix, i, n = 5):\n",
    "    search_vec = in_matrix[i] # get value to be compared\n",
    "    ret_matrix = cKDTree(in_matrix).query(search_vec, k = n + 1)\n",
    "    return ret_matrix[0][1::], ret_matrix[1][1::] # remove most similar entry i.e. itself\n",
    "    \n",
    "\n",
    "def content_based(use_nn = True):\n",
    "    item_vecs = load_nn_embeds()[1] if use_nn else load_mf_embeds()[1]\n",
    "    \n",
    "    movies = data.get_data_raw(\"ml-latest-small/movies.csv\").to_numpy()\n",
    "    \n",
    "    for i in range(10):\n",
    "        n_closest = get_n_closest(item_vecs, i)\n",
    "        recommendations = movies[n_closest[1]]\n",
    "        print(\"For: {}\\n\".format(movies[i][1]))\n",
    "        print(\"{}\\n\".format(recommendations))"
   ]
  },
  {
   "cell_type": "markdown",
   "id": "cooked-green",
   "metadata": {},
   "source": [
    "Here our content_based method takes the embeddings either from the neural net model, or the matrix factorization model. We can use either of these embeddings and use them to find similar movies, the idea being that similar movies will tend to have similar embedding vectors, and that by finding the closest movies to a given entry, we can make recommendations to a new user which the system has not yet created an accurate vector for. The process simply takes a specified movie, loads the embedding and finds the n closest embeddings, and prints the titles."
   ]
  },
  {
   "cell_type": "code",
   "execution_count": 7,
   "id": "suitable-congo",
   "metadata": {},
   "outputs": [
    {
     "name": "stdout",
     "output_type": "stream",
     "text": [
      "For: Toy Story (1995)\n",
      "\n",
      "[[173351 'Wow! A Talking Fish! (1983)'\n",
      "  'Animation|Children|Comedy|Fantasy']\n",
      " [57504 'Girl Who Leapt Through Time, The (Toki o kakeru shôjo) (2006)'\n",
      "  'Animation|Comedy|Drama|Romance|Sci-Fi']\n",
      " [64249 'Shrek the Halls (2007)' 'Adventure|Animation|Comedy|Fantasy']\n",
      " [25963 'Young and the Damned, The (Olvidados, Los) (1950)' 'Crime|Drama']\n",
      " [62434 'Zack and Miri Make a Porno (2008)' 'Comedy|Drama|Romance']]\n",
      "\n",
      "For: Jumanji (1995)\n",
      "\n",
      "[[58047 'Definitely, Maybe (2008)' 'Comedy|Drama|Romance']\n",
      " [7109 'Beyond the Clouds (Al di là delle nuvole) (1996)' 'Drama|Romance']\n",
      " [30707 'Million Dollar Baby (2004)' 'Drama']\n",
      " [45662 'Omen, The (2006)' 'Horror|Thriller']\n",
      " [84246 'It Happened on Fifth Avenue (1947)' 'Comedy|Romance']]\n",
      "\n",
      "For: Grumpier Old Men (1995)\n",
      "\n",
      "[[84246 'It Happened on Fifth Avenue (1947)' 'Comedy|Romance']\n",
      " [27549 'Dead or Alive: Final (2002)'\n",
      "  'Comedy|Crime|Drama|Sci-Fi|Thriller']\n",
      " [142444 'The Editor (2015)' 'Comedy|Horror|Mystery']\n",
      " [78746 'Best Worst Movie (2009)' 'Documentary']\n",
      " [4104 'Ernest Goes to Camp (1987)' 'Comedy']]\n",
      "\n",
      "For: Waiting to Exhale (1995)\n",
      "\n",
      "[[5298 'Human Nature (2001)' 'Comedy|Romance']\n",
      " [58287 'Descent (2007)' 'Drama|Thriller']\n",
      " [201 'Three Wishes (1995)' 'Drama|Fantasy']\n",
      " [71484 'Metropia (2009)' 'Animation|Sci-Fi']\n",
      " [149590 'Standoff (2016)' 'Thriller']]\n",
      "\n",
      "For: Father of the Bride Part II (1995)\n",
      "\n",
      "[[31737 'Bunny Lake Is Missing (1965)' 'Mystery|Thriller']\n",
      " [124851 'Delirium (2014)' 'Adventure|Romance|Sci-Fi']\n",
      " [119068 'Men, Women & Children (2014)' 'Comedy|Drama']\n",
      " [5479 'K-19: The Widowmaker (2002)' 'Action|Adventure|Drama|Thriller']\n",
      " [63436 'Saw V (2008)' 'Crime|Horror|Thriller']]\n",
      "\n",
      "For: Heat (1995)\n",
      "\n",
      "[[6574 'Eve of Destruction (1991)' 'Action|Sci-Fi|Thriller']\n",
      " [8581 'Pirates of Silicon Valley (1999)' 'Documentary|Drama']\n",
      " [27816 'Saints and Soldiers (2003)' 'Action|Adventure|Drama|War']\n",
      " [58025 'Jumper (2008)' 'Action|Adventure|Drama|Sci-Fi|Thriller']\n",
      " [5538 'Care Bears Movie, The (1985)' 'Animation|Children|Fantasy']]\n",
      "\n",
      "For: Sabrina (1995)\n",
      "\n",
      "[[2560 'Ravenous (1999)' 'Horror|Thriller']\n",
      " [82667 'I Saw the Devil (Akmareul boatda) (2010)' 'Crime|Thriller']\n",
      " [56837 'As You Like It (2006)' 'Comedy|Drama|Romance']\n",
      " [75813 'Leaves of Grass (2009)' 'Comedy|Crime|Drama|Thriller']\n",
      " [518 'Road to Wellville, The (1994)' 'Comedy']]\n",
      "\n",
      "For: Tom and Huck (1995)\n",
      "\n",
      "[[115969 'Generation War (2013)' 'Drama|War']\n",
      " [1054 'Get on the Bus (1996)' 'Drama']\n",
      " [3836 \"Kelly's Heroes (1970)\" 'Action|Comedy|War']\n",
      " [4564 'Always (1989)' 'Drama|Fantasy|Romance']\n",
      " [69849 'Roots (1977)' 'Drama|War']]\n",
      "\n",
      "For: Sudden Death (1995)\n",
      "\n",
      "[[2877 'Tommy (1975)' 'Musical']\n",
      " [128944 'Honey, We Shrunk Ourselves (1997)'\n",
      "  'Action|Adventure|Children|Comedy|Sci-Fi']\n",
      " [172233 'The Prime Gig (2000)' 'Drama|Romance']\n",
      " [73106\n",
      "  'American Pie Presents: The Book of Love (American Pie 7: The Book of Love) (2009)'\n",
      "  'Comedy']\n",
      " [93790 'Detachment (2011)' 'Drama']]\n",
      "\n",
      "For: GoldenEye (1995)\n",
      "\n",
      "[[1807 'Cool, Dry Place, A (1998)' 'Drama']\n",
      " [606 'Candyman: Farewell to the Flesh (1995)' 'Fantasy|Horror']\n",
      " [3496 'Madame Sousatzka (1988)' 'Drama']\n",
      " [144222 'Bros Before Hos (2013)' 'Comedy']\n",
      " [8493 'Memphis Belle (1990)' 'Action|Drama|War']]\n",
      "\n"
     ]
    }
   ],
   "source": [
    "content_based()"
   ]
  },
  {
   "cell_type": "code",
   "execution_count": 8,
   "id": "positive-vault",
   "metadata": {},
   "outputs": [],
   "source": [
    "def compare_preds_random(u_range = 10, i_range = 10, mf_index = True): # find difference between predicted rankings of movies generated by each method\n",
    "    diff_array = np.zeros(u_range)\n",
    "    user_count, item_count = data.get_data(\"ml-latest-small/ratings.csv\").shape\n",
    "    for i, u_id in enumerate(random.sample(range(user_count), u_range)):\n",
    "        mf_preds = sgd_mf.get_predictions(u_id, 0, False)\n",
    "        nn_preds = nn.get_predictions(u_id, 0, False)\n",
    "        \n",
    "        if mf_index:\n",
    "            index, query = mf_preds[:,0], nn_preds[:,0]\n",
    "        else:\n",
    "            index, query = nn_preds[:,0], mf_preds[:,0]\n",
    "            \n",
    "        diff_sum = 0\n",
    "        for i_id in random.sample(range(index.shape[0]), min(i_range, index.shape[0])):\n",
    "            m_id = index[i_id]\n",
    "            q_index = np.where(query == m_id)[0][0]\n",
    "            diff_sum += abs(q_index - i_id)\n",
    "        \n",
    "        avg = diff_sum / i_range\n",
    "        diff_array[i] = avg\n",
    "        print(\"User {} Average difference in rank is {}\".format(u_id, round(avg, 2)))\n",
    "    print(\"Average difference: {}, Item Range: {}\".format(round(diff_array.mean(), 2), item_count))"
   ]
  },
  {
   "cell_type": "markdown",
   "id": "mature-printer",
   "metadata": {},
   "source": [
    "This last function compares prediction rankings generated using each of the two models. Each of the get_predictions methods returns an ordered list of predictions for every item, given a specified user id. A random sample of items is then selected from one of the lists, and we find the difference in ranking for the item to it's place in the opposite list. This process is repeated for a specified number of users.\n",
    "\n",
    "By using this method, we can find which combinations of hyperparameters, neural net models, and data formatting produce the most similar predictions, which is useful information as we can assume that as our models become more similar, they are likely becoming more accurate.\n",
    "\n",
    "I was surprised to find at this point that a neural net model trained on z-normalized data correlated stronger to the minmax normalized matrix factorization method than a neural net model trained using minmax-normalized data. One would be tempted to think that because the data used for training was formatted in the same way, the the results might be more similar. However since we are measuring similarity in the order of ranked predictions, and not the predictions scores themselves, we can use this method as a way of discovering which data formats, or other similar variables, lead to the most consistent results."
   ]
  },
  {
   "cell_type": "code",
   "execution_count": 9,
   "id": "finite-hometown",
   "metadata": {},
   "outputs": [
    {
     "name": "stdout",
     "output_type": "stream",
     "text": [
      "User 462 Average difference in rank is 1850.5\n",
      "User 125 Average difference in rank is 931.2\n",
      "User 245 Average difference in rank is 1116.2\n",
      "User 66 Average difference in rank is 1659.0\n",
      "User 328 Average difference in rank is 853.2\n",
      "User 511 Average difference in rank is 552.2\n",
      "User 45 Average difference in rank is 1100.4\n",
      "User 301 Average difference in rank is 1127.8\n",
      "User 596 Average difference in rank is 1110.7\n",
      "User 436 Average difference in rank is 1371.3\n",
      "Average difference: 1167.25, Item Range: 9724\n"
     ]
    }
   ],
   "source": [
    "compare_preds_random()"
   ]
  }
 ],
 "metadata": {
  "kernelspec": {
   "display_name": "Python 3",
   "language": "python",
   "name": "python3"
  },
  "language_info": {
   "codemirror_mode": {
    "name": "ipython",
    "version": 3
   },
   "file_extension": ".py",
   "mimetype": "text/x-python",
   "name": "python",
   "nbconvert_exporter": "python",
   "pygments_lexer": "ipython3",
   "version": "3.8.5"
  }
 },
 "nbformat": 4,
 "nbformat_minor": 5
}
